{
 "cells": [
  {
   "cell_type": "code",
   "id": "initial_id",
   "metadata": {
    "ExecuteTime": {
     "end_time": "2024-07-01T06:34:34.581602Z",
     "start_time": "2024-07-01T06:34:33.775833Z"
    }
   },
   "source": [
    "import os\n",
    "import polars as pl\n",
    "import requests\n",
    "from requests.auth import HTTPBasicAuth\n",
    "\n",
    "from config import settings, constants\n",
    "from source.data_utils import read_pjm_data\n",
    "\n",
    " \n"
   ],
   "outputs": [],
   "execution_count": 1
  },
  {
   "cell_type": "code",
   "id": "968c4aa226472cb2",
   "metadata": {
    "ExecuteTime": {
     "end_time": "2024-07-01T06:36:51.664040Z",
     "start_time": "2024-07-01T06:36:49.885196Z"
    }
   },
   "source": [
    "first_year = 2012\n",
    "last_year = 2024\n",
    "\n",
    "for year in range(first_year, last_year+1):\n",
    "    df = read_pjm_data(start_year=year, end_year=year, aggregation_level=constants.ZONE)\n",
    "    available_zones = [x for x in df.columns if x in constants.PJM_ZONES]\n",
    "    print(f'{year}: {len(available_zones)} - {available_zones}')\n"
   ],
   "outputs": [
    {
     "name": "stdout",
     "output_type": "stream",
     "text": [
      "2012: 16 - ['AEP', 'AP', 'ATSI', 'BC', 'CE', 'CNCT', 'DAY', 'DEOK', 'DOM', 'DUQ', 'GPU', 'PE', 'PEP', 'PL', 'PS', 'RECO']\n",
      "2013: 17 - ['AEP', 'AP', 'ATSI', 'BC', 'CE', 'CNCT', 'DAY', 'DEOK', 'DOM', 'DUQ', 'EKPC', 'GPU', 'PE', 'PEP', 'PL', 'PS', 'RECO']\n",
      "2014: 17 - ['AEP', 'AP', 'ATSI', 'BC', 'CE', 'CNCT', 'DAY', 'DEOK', 'DOM', 'DUQ', 'EKPC', 'GPU', 'PE', 'PEP', 'PL', 'PS', 'RECO']\n",
      "2015: 20 - ['AE', 'AEP', 'AP', 'ATSI', 'BC', 'CE', 'DAY', 'DEOK', 'DOM', 'DPL', 'DUQ', 'EKPC', 'JC', 'ME', 'PE', 'PEP', 'PL', 'PN', 'PS', 'RECO']\n",
      "2016: 20 - ['AE', 'AEP', 'AP', 'ATSI', 'BC', 'CE', 'DAY', 'DEOK', 'DOM', 'DPL', 'DUQ', 'EKPC', 'JC', 'ME', 'PE', 'PEP', 'PL', 'PN', 'PS', 'RECO']\n",
      "2017: 20 - ['AE', 'AEP', 'AP', 'ATSI', 'BC', 'CE', 'DAY', 'DEOK', 'DOM', 'DPL', 'DUQ', 'EKPC', 'JC', 'ME', 'PE', 'PEP', 'PL', 'PN', 'PS', 'RECO']\n",
      "2018: 21 - ['AE', 'AEP', 'AP', 'ATSI', 'BC', 'CE', 'DAY', 'DEOK', 'DOM', 'DPL', 'DUQ', 'EKPC', 'JC', 'ME', 'OVEC', 'PE', 'PEP', 'PL', 'PN', 'PS', 'RECO']\n",
      "2019: 21 - ['AE', 'AEP', 'AP', 'ATSI', 'BC', 'CE', 'DAY', 'DEOK', 'DOM', 'DPL', 'DUQ', 'EKPC', 'JC', 'ME', 'OVEC', 'PE', 'PEP', 'PL', 'PN', 'PS', 'RECO']\n",
      "2020: 21 - ['AE', 'AEP', 'AP', 'ATSI', 'BC', 'CE', 'DAY', 'DEOK', 'DOM', 'DPL', 'DUQ', 'EKPC', 'JC', 'ME', 'OVEC', 'PE', 'PEP', 'PL', 'PN', 'PS', 'RECO']\n",
      "2021: 21 - ['AE', 'AEP', 'AP', 'ATSI', 'BC', 'CE', 'DAY', 'DEOK', 'DOM', 'DPL', 'DUQ', 'EKPC', 'JC', 'ME', 'OVEC', 'PE', 'PEP', 'PL', 'PN', 'PS', 'RECO']\n",
      "2022: 21 - ['AE', 'AEP', 'AP', 'ATSI', 'BC', 'CE', 'DAY', 'DEOK', 'DOM', 'DPL', 'DUQ', 'EKPC', 'JC', 'ME', 'OVEC', 'PE', 'PEP', 'PL', 'PN', 'PS', 'RECO']\n",
      "2023: 21 - ['AE', 'AEP', 'AP', 'ATSI', 'BC', 'CE', 'DAY', 'DEOK', 'DOM', 'DPL', 'DUQ', 'EKPC', 'JC', 'ME', 'OVEC', 'PE', 'PEP', 'PL', 'PN', 'PS', 'RECO']\n",
      "2024: 21 - ['AE', 'AEP', 'AP', 'ATSI', 'BC', 'CE', 'DAY', 'DEOK', 'DOM', 'DPL', 'DUQ', 'EKPC', 'JC', 'ME', 'OVEC', 'PE', 'PEP', 'PL', 'PN', 'PS', 'RECO']\n"
     ]
    }
   ],
   "execution_count": 2
  },
  {
   "metadata": {
    "ExecuteTime": {
     "end_time": "2024-07-01T08:09:37.036124Z",
     "start_time": "2024-07-01T08:09:36.819649Z"
    }
   },
   "cell_type": "code",
   "source": [
    "first_year = 2017\n",
    "last_year = 2018\n",
    "\n",
    "df = read_pjm_data(start_year=first_year, end_year=last_year, aggregation_level=constants.ZONE)"
   ],
   "id": "451df12975af1f8e",
   "outputs": [],
   "execution_count": 6
  }
 ],
 "metadata": {
  "kernelspec": {
   "display_name": "Python 3 (ipykernel)",
   "language": "python",
   "name": "python3"
  },
  "language_info": {
   "codemirror_mode": {
    "name": "ipython",
    "version": 3
   },
   "file_extension": ".py",
   "mimetype": "text/x-python",
   "name": "python",
   "nbconvert_exporter": "python",
   "pygments_lexer": "ipython3",
   "version": "3.11.3"
  }
 },
 "nbformat": 4,
 "nbformat_minor": 5
}
