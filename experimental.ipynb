{
 "cells": [
  {
   "cell_type": "code",
   "id": "initial_id",
   "metadata": {
    "ExecuteTime": {
     "end_time": "2024-06-24T05:53:20.355047Z",
     "start_time": "2024-06-24T05:53:18.456786Z"
    }
   },
   "source": [
    "import os\n",
    "import polars as pl\n",
    "import requests\n",
    "from requests.auth import HTTPBasicAuth\n",
    "\n",
    "from config import settings, constants\n",
    "from source.utils import read_pjm_data\n",
    "from source.map_utils import visualize_stations, visualize_pjm_stations, get_pjm_regions_for_weather_stations"
   ],
   "outputs": [],
   "execution_count": 1
  },
  {
   "cell_type": "code",
   "id": "968c4aa226472cb2",
   "metadata": {
    "ExecuteTime": {
     "end_time": "2024-06-24T05:54:07.255844Z",
     "start_time": "2024-06-24T05:54:04.463814Z"
    }
   },
   "source": [
    "first_year = 2012\n",
    "last_year = 2024\n",
    "\n",
    "df_zone = read_pjm_data(\n",
    "            start_year=first_year,\n",
    "            end_year=last_year,\n",
    "            aggregation_level=constants.ZONE\n",
    "        ).to_pandas().set_index(keys=constants.LOCAL_DATE_TIME)\n"
   ],
   "outputs": [],
   "execution_count": 2
  }
 ],
 "metadata": {
  "kernelspec": {
   "display_name": "Python 3 (ipykernel)",
   "language": "python",
   "name": "python3"
  },
  "language_info": {
   "codemirror_mode": {
    "name": "ipython",
    "version": 3
   },
   "file_extension": ".py",
   "mimetype": "text/x-python",
   "name": "python",
   "nbconvert_exporter": "python",
   "pygments_lexer": "ipython3",
   "version": "3.11.3"
  }
 },
 "nbformat": 4,
 "nbformat_minor": 5
}
