{
 "cells": [
  {
   "cell_type": "code",
   "execution_count": 1,
   "id": "initial_id",
   "metadata": {
    "ExecuteTime": {
     "end_time": "2024-06-20T14:02:53.962464Z",
     "start_time": "2024-06-20T14:02:52.715618Z"
    }
   },
   "outputs": [],
   "source": [
    "import requests\n",
    "from requests.auth import HTTPBasicAuth\n",
    "\n",
    "from config import settings, constants\n",
    "from source.map_utils import visualize_stations, visualize_pjm_stations, get_pjm_regions_for_weather_stations"
   ]
  },
  {
   "cell_type": "code",
   "id": "3061e6b96f48c495",
   "metadata": {},
   "source": [
    "get_pjm_regions_for_weather_stations()"
   ],
   "outputs": [],
   "execution_count": null
  },
  {
   "cell_type": "code",
   "execution_count": 4,
   "id": "968c4aa226472cb2",
   "metadata": {
    "ExecuteTime": {
     "end_time": "2024-06-20T05:24:25.498620Z",
     "start_time": "2024-06-20T05:24:22.762701Z"
    }
   },
   "outputs": [],
   "source": [
    "import os\n",
    "import polars as pl\n",
    "from source.utils import read_pjm_data\n",
    "from config import settings, constants\n",
    "\n",
    "first_year = 2012\n",
    "last_year = 2024\n",
    "\n",
    "year = 2012\n",
    "agg_level = constants.NERC_REGION\n",
    "file_path = os.path.join(settings.PJM_FOLDER, f'pjm-{year}.csv')\n",
    "pjm_df = read_pjm_data(start_year=2012, end_year=2024, aggregation_level = agg_level)\n",
    "raw_df = pl.read_csv(source=file_path)\n"
   ]
  },
  {
   "cell_type": "code",
   "id": "d2e5b026-f3b1-4bbc-b1aa-5057526e43c8",
   "metadata": {},
   "source": [
    "print(f'{raw_df.columns}')\n",
    "print(f'{pjm_df.columns}')\n",
    "\n",
    "raw_df.with_columns(\n",
    "    pl.col(agg_level) == 'RFC'\n",
    ")"
   ],
   "outputs": [],
   "execution_count": null
  },
  {
   "cell_type": "code",
   "id": "f8727ee75a3b84a0",
   "metadata": {},
   "source": [
    "import polars as pl\n",
    "\n",
    "df = read_pjm_data(start_year=2012, end_year=2024, settings=settings, constants=constants)\n",
    "\n",
    "df = df.with_columns(\n",
    "    pl.sum_horizontal(constants.PJM_ZONES).alias('zone sum')    \n",
    ")\n",
    "df = df.with_columns(\n",
    "    (pl.col('zone sum') == pl.col('RTO')).alias('check'),\n",
    "    (pl.col('zone sum') - pl.col('RTO')).abs().alias('diff')\n",
    ")\n",
    "df"
   ],
   "outputs": [],
   "execution_count": null
  }
 ],
 "metadata": {
  "kernelspec": {
   "display_name": "Python 3 (ipykernel)",
   "language": "python",
   "name": "python3"
  },
  "language_info": {
   "codemirror_mode": {
    "name": "ipython",
    "version": 3
   },
   "file_extension": ".py",
   "mimetype": "text/x-python",
   "name": "python",
   "nbconvert_exporter": "python",
   "pygments_lexer": "ipython3",
   "version": "3.11.3"
  }
 },
 "nbformat": 4,
 "nbformat_minor": 5
}
